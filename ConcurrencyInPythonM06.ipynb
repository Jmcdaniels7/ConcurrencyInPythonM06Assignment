{
 "cells": [
  {
   "cell_type": "code",
   "execution_count": 20,
   "id": "cf24ab66-ebf7-4ace-861a-08cd6fc3e295",
   "metadata": {},
   "outputs": [],
   "source": [
    "from datetime import date\n",
    "now = date.today()\n",
    "fmt = \"%m/%d/%Y\"\n",
    "\n",
    "with open(\"today.txt\", \"w\") as file:\n",
    "    file.write(now.strftime(fmt))"
   ]
  },
  {
   "cell_type": "code",
   "execution_count": 29,
   "id": "f6a17fdf-3649-4074-991b-bf0a8bb9874c",
   "metadata": {},
   "outputs": [
    {
     "name": "stdout",
     "output_type": "stream",
     "text": [
      "09/26/2024\n"
     ]
    }
   ],
   "source": [
    "file_path = 'today.txt'\n",
    "\n",
    "with open(file_path, 'r') as file:\n",
    "    today_string = file.read()\n",
    "\n",
    "print(today_string)"
   ]
  },
  {
   "cell_type": "code",
   "execution_count": 45,
   "id": "34618958-e04d-4f77-9731-73412a1f0825",
   "metadata": {},
   "outputs": [
    {
     "name": "stdout",
     "output_type": "stream",
     "text": [
      "Process 21508 says: Jacob\n",
      "Process 21508 says: McDaniels\n",
      "Process 21508 says: 12:02PM\n"
     ]
    }
   ],
   "source": [
    "#Use multiprocessing to create three separate processes. \n",
    "#Make each one wait a random number of seconds between zero and one, print the current time, and then exit.\n",
    "import multiprocessing\n",
    "import os\n",
    "import time\n",
    "\n",
    "def firstName(fname):\n",
    "    print(\"Process %s says: %s\" % (os.getpid(), fname))\n",
    "def lastName(lname):\n",
    "    print(\"Process %s says: %s\" % (os.getpid(), lname))\n",
    "def currentTime(timeNow):\n",
    "    print(\"Process %s says: %s\" % (os.getpid(), timeNow))\n",
    "                  \n",
    "if __name__ == \"__main__\":\n",
    "    firstName(\"Jacob\")\n",
    "    lastName(\"McDaniels\")\n",
    "    fmt = \"%I:%M%p\"\n",
    "    t = time.localtime()\n",
    "    currentTime(time.strftime(fmt, t))\n",
    "    \n",
    "    p = multiprocessing.Process(target=currentTime, args=(\"loopy\",))\n",
    "    p.start()\n",
    "    time.sleep(0.5)\n",
    "    p.terminate()\n"
   ]
  },
  {
   "cell_type": "code",
   "execution_count": null,
   "id": "251720dc-0c59-43bf-9d0e-aed98ead7607",
   "metadata": {},
   "outputs": [],
   "source": []
  }
 ],
 "metadata": {
  "kernelspec": {
   "display_name": "Python 3 (ipykernel)",
   "language": "python",
   "name": "python3"
  },
  "language_info": {
   "codemirror_mode": {
    "name": "ipython",
    "version": 3
   },
   "file_extension": ".py",
   "mimetype": "text/x-python",
   "name": "python",
   "nbconvert_exporter": "python",
   "pygments_lexer": "ipython3",
   "version": "3.12.4"
  }
 },
 "nbformat": 4,
 "nbformat_minor": 5
}
